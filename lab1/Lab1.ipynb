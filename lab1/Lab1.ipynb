{
 "cells": [
  {
   "cell_type": "code",
   "execution_count": null,
   "metadata": {
    "collapsed": false
   },
   "outputs": [],
   "source": [
    "%matplotlib inline\n",
    "import numpy as np\n",
    "import pandas as pd\n",
    "from scipy import stats, integrate\n",
    "import matplotlib.pyplot as plt\n",
    "import seaborn as sns"
   ]
  },
  {
   "cell_type": "code",
   "execution_count": null,
   "metadata": {
    "collapsed": true
   },
   "outputs": [],
   "source": [
    "df = pd.read_csv('train.csv')"
   ]
  },
  {
   "cell_type": "code",
   "execution_count": null,
   "metadata": {
    "collapsed": false
   },
   "outputs": [],
   "source": [
    "zeros = df[df.label == 0].drop('label', 1)\n",
    "ones = df[df.label == 1].drop('label', 1) \n",
    "twos = df[df.label == 2].drop('label', 1) \n",
    "threes = df[df.label == 3].drop('label', 1) \n",
    "fours = df[df.label == 4].drop('label', 1) \n",
    "fives = df[df.label == 5].drop('label', 1) \n",
    "sixs = df[df.label == 6].drop('label', 1) \n",
    "sevens = df[df.label == 7].drop('label', 1) \n",
    "eights = df[df.label == 8].drop('label', 1) \n",
    "nines = df[df.label == 9].drop('label', 1) \n",
    "\n",
    "digit_list = [zeros,ones, twos, threes, fours, fives, sixs, sevens, eights, nines]"
   ]
  },
  {
   "cell_type": "code",
   "execution_count": null,
   "metadata": {
    "collapsed": false
   },
   "outputs": [],
   "source": [
    "# Part B\n",
    "def show_digit(digit):\n",
    "    sns.heatmap(data=pd.DataFrame(digit.head(1).values.reshape((28,28))))\n",
    "    plt.show()\n",
    "\n",
    "for digit in digit_list:\n",
    "    show_digit(digit)"
   ]
  },
  {
   "cell_type": "code",
   "execution_count": null,
   "metadata": {
    "collapsed": false
   },
   "outputs": [],
   "source": [
    "# Part C\n",
    "print np.histogram(df['label'], bins=np.arange(11), normed=True)[0]\n",
    "df['label'].hist(normed=True)"
   ]
  },
  {
   "cell_type": "code",
   "execution_count": null,
   "metadata": {
    "collapsed": true
   },
   "outputs": [],
   "source": []
  },
  {
   "cell_type": "code",
   "execution_count": null,
   "metadata": {
    "collapsed": false
   },
   "outputs": [],
   "source": [
    "df.sort('label').label.value_counts().plot(kind='bar')"
   ]
  },
  {
   "cell_type": "code",
   "execution_count": null,
   "metadata": {
    "collapsed": false
   },
   "outputs": [],
   "source": [
    "zeros = zeros.reset_index()"
   ]
  },
  {
   "cell_type": "code",
   "execution_count": null,
   "metadata": {
    "collapsed": false
   },
   "outputs": [],
   "source": [
    "A = zeros.loc[1].drop(\"index\").reshape((28,28))\n",
    "B = zeros.loc[2].drop(\"index\").reshape((28,28))\n",
    "\n",
    "np.linalg.norm(A-B)\n"
   ]
  }
 ],
 "metadata": {
  "kernelspec": {
   "display_name": "Python 2",
   "language": "python",
   "name": "python2"
  },
  "language_info": {
   "codemirror_mode": {
    "name": "ipython",
    "version": 2
   },
   "file_extension": ".py",
   "mimetype": "text/x-python",
   "name": "python",
   "nbconvert_exporter": "python",
   "pygments_lexer": "ipython2",
   "version": "2.7.10"
  }
 },
 "nbformat": 4,
 "nbformat_minor": 0
}
