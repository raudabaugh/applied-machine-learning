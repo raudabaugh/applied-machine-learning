{
 "cells": [
  {
   "cell_type": "code",
   "execution_count": null,
   "metadata": {
    "collapsed": false
   },
   "outputs": [],
   "source": [
    "%matplotlib inline\n",
    "import numpy as np\n",
    "import pandas as pd\n",
    "from scipy import stats, integrate\n",
    "import matplotlib.pyplot as plt\n",
    "import seaborn as sns"
   ]
  },
  {
   "cell_type": "code",
   "execution_count": null,
   "metadata": {
    "collapsed": true
   },
   "outputs": [],
   "source": [
    "df = pd.read_csv('train.csv')"
   ]
  },
  {
   "cell_type": "code",
   "execution_count": null,
   "metadata": {
    "collapsed": false
   },
   "outputs": [],
   "source": [
    "zeros = df[df.label == 0].drop('label', 1)\n",
    "ones = df[df.label == 1].drop('label', 1) \n",
    "twos = df[df.label == 2].drop('label', 1) \n",
    "threes = df[df.label == 3].drop('label', 1) \n",
    "fours = df[df.label == 4].drop('label', 1) \n",
    "fives = df[df.label == 5].drop('label', 1) \n",
    "sixs = df[df.label == 6].drop('label', 1) \n",
    "sevens = df[df.label == 7].drop('label', 1) \n",
    "eights = df[df.label == 8].drop('label', 1) \n",
    "nines = df[df.label == 9].drop('label', 1) \n",
    "\n",
    "digit_list = [zeros,ones, twos, threes, fours, fives, sixs, sevens, eights, nines]"
   ]
  },
  {
   "cell_type": "code",
   "execution_count": null,
   "metadata": {
    "collapsed": false
   },
   "outputs": [],
   "source": [
    "# Part B\n",
    "def show_digit(digit):\n",
    "    sns.heatmap(data=pd.DataFrame(digit.head(1).values.reshape((28,28))))\n",
    "    plt.show()\n",
    "\n",
    "for digit in digit_list:\n",
    "    show_digit(digit)"
   ]
  },
  {
   "cell_type": "code",
   "execution_count": null,
   "metadata": {
    "collapsed": false
   },
   "outputs": [],
   "source": [
    "# Part C\n",
    "print np.histogram(df['label'], bins=np.arange(11), normed=True)[0]\n",
    "df['label'].hist(normed=True)"
   ]
  },
  {
   "cell_type": "code",
   "execution_count": null,
   "metadata": {
    "collapsed": true
   },
   "outputs": [],
   "source": []
  },
  {
   "cell_type": "code",
   "execution_count": null,
   "metadata": {
    "collapsed": false
   },
   "outputs": [],
   "source": [
    "df.sort('label').label.value_counts().plot(kind='bar')"
   ]
  },
  {
   "cell_type": "code",
   "execution_count": null,
   "metadata": {
    "collapsed": false
   },
   "outputs": [],
   "source": [
    "zeros = zeros.reset_index()"
   ]
  },
  {
   "cell_type": "code",
   "execution_count": null,
   "metadata": {
    "collapsed": false
   },
   "outputs": [],
   "source": [
    "A = zeros.loc[1].drop(\"index\").reshape((28,28))\n",
    "B = zeros.loc[2].drop(\"index\").reshape((28,28))\n",
    "\n",
    "np.linalg.norm(A-B)\n"
   ]
  },
  {
   "cell_type": "code",
   "execution_count": null,
   "metadata": {
    "collapsed": false
   },
   "outputs": [],
   "source": [
    "def get_title_type(title):\n",
    "    title_map = {\n",
    "        ('Mr.', 'Mrs.', 'Miss.', 'Ms.', 'Master.', 'Mme.', 'Mlle.'): 0, # pedestrian\n",
    "        ('Don.', 'Dona.', 'the', 'Sir.', 'Lady.', 'Jonkheer.'):      1, # honorary\n",
    "        ('Dr.'):                                                     2, # academic\n",
    "        ('Rev.'):                                                    3, # religious\n",
    "        ('Major.', 'Col.', 'Capt.'):                                 4  # military\n",
    "    }\n",
    "    for key in title_map:\n",
    "        if title in key: return title_map[key]\n",
    "    \n",
    "def munge_data(filepath):\n",
    "    df = pd.read_csv(filepath)\n",
    "    \n",
    "    df['Title'] = df['Name'].map( lambda x: get_title_type(x.split(',')[1].split()[0]) )\n",
    "    \n",
    "    df['Sex_enum'] = df['Sex'].map( {'female': 0, 'male': 1} ).astype(int)\n",
    "\n",
    "    df = df.dropna(subset=['Embarked'])\n",
    "    df['Embarked_enum'] = df['Embarked'].map( {'C': 0, 'Q': 1, 'S': 2} ).astype(int)\n",
    "\n",
    "    median_ages = np.zeros((2,3))\n",
    "    for i in range(0, 2):\n",
    "        for j in range(0, 3):\n",
    "            median_ages[i,j] = df[(df['Sex_enum'] == i) & (df['Pclass'] == j+1)]['Age'].dropna().median()\n",
    "            \n",
    "    median_fares = np.zeros((2,3))\n",
    "    for i in range(0, 2):\n",
    "        for j in range(0, 3):\n",
    "            median_fares[i,j] = df[(df['Sex_enum'] == i) & (df['Pclass'] == j+1)]['Fare'].dropna().median()\n",
    "\n",
    "    df['AgeFill'] = df['Age']\n",
    "    for i in range(0, 2):\n",
    "        for j in range(0, 3):\n",
    "            df.loc[ (df.Age.isnull()) & (df.Sex_enum == i) & (df.Pclass == j+1), 'AgeFill'] = median_ages[i,j]\n",
    "    \n",
    "    df['FareFill'] = df['Fare']\n",
    "    for i in range(0, 2):\n",
    "        for j in range(0, 3):\n",
    "            df.loc[ (df.Fare.isnull()) & (df.Sex_enum == i) & (df.Pclass == j+1), 'FareFill'] = median_fares[i,j]\n",
    "    \n",
    "    df['FamilySize'] = df['SibSp'] + df['Parch']\n",
    "    df['Age*Class'] = df.AgeFill * df.Pclass\n",
    "\n",
    "    df = df.drop(['PassengerId', 'Name', 'Sex', 'Ticket', 'Cabin', 'Embarked', 'Age', 'AgeFill', 'Fare'], axis=1)\n",
    "    df.info()\n",
    "    return df.values\n",
    "\n",
    "train_data = munge_data('titanic/train.csv')\n",
    "train_data\n",
    "\n",
    "test_data = munge_data('titanic/test.csv')\n",
    "test_data"
   ]
  },
  {
   "cell_type": "code",
   "execution_count": null,
   "metadata": {
    "collapsed": true
   },
   "outputs": [],
   "source": [
    "def evaluate(fold):\n",
    "    # Evaluate a logistic regression classifier\n",
    "    train_indices, test_indices = fold\n",
    "    \n",
    "    X_train = train_data[train_indices, 1:]\n",
    "    Y_train = train_data[train_indices, 0]\n",
    "    X_test = train_data[test_indices, 1:]\n",
    "    Y_test = train_data[test_indices, 0]\n",
    "\n",
    "    return linear_model.LogisticRegression().fit(X_train,Y_train).score(X_test, Y_test)"
   ]
  },
  {
   "cell_type": "code",
   "execution_count": null,
   "metadata": {
    "collapsed": false
   },
   "outputs": [],
   "source": [
    "from sklearn import datasets, linear_model, cross_validation, preprocessing\n",
    "\n",
    "print np.mean([evaluate((train_i, test_i)) for train_i, test_in in cross_validation.KFold(len(X), n_folds=10)])\n",
    "\n",
    "test_predictions = linear_model.LogisticRegression().fit(train_data[:,1:],train_data[:,0]).predict(test_data)\n",
    "\n",
    "df = pd.read_csv('titanic/test.csv')\n",
    "df = df.drop(['Name', 'Sex', 'Ticket', 'Cabin', 'Embarked', 'Age', 'Fare', 'Pclass', 'SibSp', 'Parch'], axis=1)\n",
    "df['Survived'] = test_predictions.astype(int)\n",
    "df.to_csv('titanic/predictions.csv', index=False)"
   ]
  },
  {
   "cell_type": "code",
   "execution_count": null,
   "metadata": {
    "collapsed": true
   },
   "outputs": [],
   "source": []
  }
 ],
 "metadata": {
  "kernelspec": {
   "display_name": "Python 2",
   "language": "python",
   "name": "python2"
  },
  "language_info": {
   "codemirror_mode": {
    "name": "ipython",
    "version": 2
   },
   "file_extension": ".py",
   "mimetype": "text/x-python",
   "name": "python",
   "nbconvert_exporter": "python",
   "pygments_lexer": "ipython2",
   "version": "2.7.10"
  }
 },
 "nbformat": 4,
 "nbformat_minor": 0
}
