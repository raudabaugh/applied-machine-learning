{
 "cells": [
  {
   "cell_type": "code",
   "execution_count": null,
   "metadata": {
    "collapsed": true
   },
   "outputs": [],
   "source": [
    "%matplotlib inline\n",
    "import numpy as np\n",
    "import pandas as pd"
   ]
  },
  {
   "cell_type": "code",
   "execution_count": null,
   "metadata": {
    "collapsed": true
   },
   "outputs": [],
   "source": [
    "# https://gist.github.com/perrygeo/4512375\n",
    "def scale_linear_bycolumn(rawpoints, high=1.0, low=0.0):\n",
    "    mins = np.min(rawpoints, axis=0)\n",
    "    maxs = np.max(rawpoints, axis=0)\n",
    "    rng = maxs - mins\n",
    "    return high - (((high - low) * (maxs - rawpoints)) / rng)"
   ]
  },
  {
   "cell_type": "code",
   "execution_count": null,
   "metadata": {
    "collapsed": false
   },
   "outputs": [],
   "source": [
    "df = pd.read_csv('faithful.dat', delim_whitespace=True, skiprows=25)\n",
    "df['eruptions'] = scale_linear_bycolumn(df['eruptions'])\n",
    "df['waiting'] = scale_linear_bycolumn(df['waiting'])\n",
    "df.plot(kind='scatter', x='eruptions', y='waiting')"
   ]
  },
  {
   "cell_type": "code",
   "execution_count": null,
   "metadata": {
    "collapsed": false
   },
   "outputs": [],
   "source": [
    "from scipy.stats import multivariate_normal\n",
    "\n",
    "def gmm_mixture(df, mu1=None, cov1=None, mu2=None, cov2=None, p_mix=None):\n",
    "    df = df[['eruptions', 'waiting']]\n",
    "    # Take initial guesses for mean vectors, covariance matrices,\n",
    "    # and mixing proportion\n",
    "    if mu1 is None: mu1 = np.random.random(2)\n",
    "    if cov1 is None: cov1 = np.random.random() * np.eye(2)\n",
    "    if mu2 is None: mu2 = np.random.random(2)\n",
    "    if cov2 is None: cov2 = np.random.random() * np.eye(2)\n",
    "    if p_mix is None: p_mix = np.random.random()\n",
    "\n",
    "    # E-step: Compute responsibilities\n",
    "    var1 = multivariate_normal(mean=mu1, cov=cov1)\n",
    "    var2 = multivariate_normal(mean=mu2, cov=cov2)\n",
    "    resp = p_mix*var2.pdf(df) / ((1-p_mix)*var1.pdf(df) + p_mix*var2.pdf(df))\n",
    "    resp = np.array([resp])\n",
    "\n",
    "    mu1_arr = np.array([mu1])\n",
    "    mu2_arr = np.array([mu2])\n",
    "\n",
    "    diff = 1\n",
    "    epsilon = 0.0001\n",
    "    while diff > epsilon:\n",
    "        # M-step: compute weighted means and variances\n",
    "        mu1 = sum((1-resp).dot(df)) / sum(sum(1-resp))\n",
    "        cov1 = np.diag(sum((1-resp).dot(np.square(df-mu1))) / sum(sum(1-resp)))\n",
    "        if np.count_nonzero(np.less(cov1, epsilon * np.eye(2))) > 0:\n",
    "            cov1 = np.random.random() * np.eye(2)\n",
    "\n",
    "        mu2 = sum(resp.dot(df)) / sum(sum(resp))\n",
    "        cov2 = np.diag(sum(resp.dot(np.square(df-mu2))) / sum(sum(resp)))\n",
    "        if np.count_nonzero(np.less(cov2, epsilon * np.eye(2))) > 0:\n",
    "            cov2 = np.random.random() * np.eye(2)\n",
    "        \n",
    "        mu1_arr = np.append(mu1_arr, [mu1], axis=0)\n",
    "        mu2_arr = np.append(mu2_arr, [mu2], axis=0)\n",
    "\n",
    "        old_p_mix = p_mix\n",
    "        p_mix = sum(sum(resp)) / len(df)\n",
    "        \n",
    "        # E-step: Compute responsibilities\n",
    "        var1 = multivariate_normal(mean=mu1, cov=cov1)\n",
    "        var2 = multivariate_normal(mean=mu2, cov=cov2)\n",
    "        resp = p_mix*var2.pdf(df) / ((1-p_mix)*var1.pdf(df) + p_mix*var2.pdf(df))\n",
    "        resp = np.array([resp])\n",
    "        diff = abs(p_mix - old_p_mix)\n",
    "    return mu1_arr, mu2_arr"
   ]
  },
  {
   "cell_type": "code",
   "execution_count": null,
   "metadata": {
    "collapsed": false
   },
   "outputs": [],
   "source": [
    "trajectories = []\n",
    "for i in range(50):\n",
    "    trajectories.append(gmm_mixture(df))\n",
    "\n",
    "# http://stackoverflow.com/questions/8945699/gnuplot-linecolor-variable-in-matplotlib/18516488#18516488\n",
    "fig = plt.figure()\n",
    "\n",
    "for i in trajectories[0]:\n",
    "    print i[-1]\n",
    "    points = np.array(i).T.reshape(-1, 1, 2)\n",
    "    segments = np.concatenate([points[:-1], points[1:]], axis=1)\n",
    "\n",
    "    lc = LineCollection(segments, cmap=plt.get_cmap('Spectral'),\n",
    "                        norm=plt.Normalize(1, len(i)))\n",
    "    lc.set_array(np.arange(1,len(i)+1))\n",
    "    lc.set_linewidth(2)\n",
    "\n",
    "    plt.gca().add_collection(lc)\n",
    "\n",
    "axcb = fig.colorbar(lc)\n",
    "axcb.set_label('iterations')\n",
    "\n",
    "plt.show()\n",
    "pd.DataFrame([len(trajectory[0]) for trajectory in trajectories], columns=['iterations']).hist()"
   ]
  },
  {
   "cell_type": "code",
   "execution_count": null,
   "metadata": {
    "collapsed": false
   },
   "outputs": [],
   "source": [
    "from sklearn.cluster import KMeans\n",
    "\n",
    "kmeans = KMeans(n_clusters=2)"
   ]
  },
  {
   "cell_type": "code",
   "execution_count": null,
   "metadata": {
    "collapsed": false
   },
   "outputs": [],
   "source": [
    "from sklearn.covariance import empirical_covariance\n",
    "\n",
    "trajectories = []\n",
    "for i in range(50):\n",
    "    df['label'] = kmeans.fit_predict(df[['eruptions', 'waiting']])\n",
    "    mix = gmm_mixture(df,\n",
    "                      mu1=kmeans.cluster_centers_[0][0:2],\n",
    "                      cov1=empirical_covariance(df[df['label']==0][['eruptions', 'waiting']]), \n",
    "                      mu2=kmeans.cluster_centers_[1][0:2],\n",
    "                      cov2=empirical_covariance(df[df['label']==1][['eruptions', 'waiting']]), \n",
    "                      p_mix = float(np.count_nonzero(df['label']))/len(df['label']))\n",
    "    trajectories.append(mix)\n",
    "\n",
    "# http://stackoverflow.com/questions/8945699/gnuplot-linecolor-variable-in-matplotlib/18516488#18516488\n",
    "fig = plt.figure()\n",
    "\n",
    "for i in trajectories[0]:\n",
    "    print i[-1]\n",
    "    points = np.array(i).T.reshape(-1, 1, 2)\n",
    "    segments = np.concatenate([points[:-1], points[1:]], axis=1)\n",
    "\n",
    "    lc = LineCollection(segments, cmap=plt.get_cmap('Spectral'),\n",
    "                        norm=plt.Normalize(1, len(i)))\n",
    "    lc.set_array(np.arange(1,len(i)+1))\n",
    "    lc.set_linewidth(2)\n",
    "\n",
    "    plt.gca().add_collection(lc)\n",
    "\n",
    "axcb = fig.colorbar(lc)\n",
    "axcb.set_label('iterations')\n",
    "\n",
    "plt.show()\n",
    "pd.DataFrame([len(trajectory[0]) for trajectory in trajectories], columns=['iterations']).hist()"
   ]
  }
 ],
 "metadata": {
  "kernelspec": {
   "display_name": "Python 2",
   "language": "python",
   "name": "python2"
  },
  "language_info": {
   "codemirror_mode": {
    "name": "ipython",
    "version": 2
   },
   "file_extension": ".py",
   "mimetype": "text/x-python",
   "name": "python",
   "nbconvert_exporter": "python",
   "pygments_lexer": "ipython2",
   "version": "2.7.10"
  }
 },
 "nbformat": 4,
 "nbformat_minor": 0
}
