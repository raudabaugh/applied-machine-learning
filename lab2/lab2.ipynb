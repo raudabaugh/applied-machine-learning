{
 "cells": [
  {
   "cell_type": "code",
   "execution_count": 1,
   "metadata": {
    "collapsed": false
   },
   "outputs": [
    {
     "ename": "SyntaxError",
     "evalue": "invalid syntax (<ipython-input-1-9d519d29af81>, line 7)",
     "output_type": "error",
     "traceback": [
      "\u001b[0;36m  File \u001b[0;32m\"<ipython-input-1-9d519d29af81>\"\u001b[0;36m, line \u001b[0;32m7\u001b[0m\n\u001b[0;31m    for line in open(’./faces/train.txt’):\u001b[0m\n\u001b[0m                     ^\u001b[0m\n\u001b[0;31mSyntaxError\u001b[0m\u001b[0;31m:\u001b[0m invalid syntax\n"
     ]
    }
   ],
   "source": [
    "import numpy as np\n",
    "from scipy import misc\n",
    "from matplotlib import pylab as plt\n",
    "import matplotlib.cm as cm\n",
    "%matplotlib inline\n",
    "train_labels, train_data = [], []\n",
    "for line in open('./faces/train.txt'):\n",
    "    im = misc.imread(line.strip().split()[0])\n",
    "    train_data.append(im.reshape(2500,))\n",
    "    train_labels.append(line.strip().split()[1])\n",
    "train_data, train_labels = np.array(train_data, dtype=float), np.array(train_labels, dtype=int)\n",
    "print train_data.shape, train_labels.shape\n",
    "plt.imshow(train_data[10, :].reshape(50,50), cmap = cm.Greys_r)\n",
    "plt.show()"
   ]
  }
 ],
 "metadata": {
  "kernelspec": {
   "display_name": "Python 2",
   "language": "python",
   "name": "python2"
  },
  "language_info": {
   "codemirror_mode": {
    "name": "ipython",
    "version": 2
   },
   "file_extension": ".py",
   "mimetype": "text/x-python",
   "name": "python",
   "nbconvert_exporter": "python",
   "pygments_lexer": "ipython2",
   "version": "2.7.10"
  }
 },
 "nbformat": 4,
 "nbformat_minor": 0
}
